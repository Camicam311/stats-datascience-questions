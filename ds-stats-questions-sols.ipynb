{
 "cells": [
  {
   "cell_type": "markdown",
   "metadata": {},
   "source": [
    "### Q:\n",
    "Given that $X$~$Unif(0,1)$ and $YUnif(0,1)$, what is the expected value of the mimimum of X and Y?"
   ]
  },
  {
   "cell_type": "markdown",
   "metadata": {},
   "source": [
    "### A:\n",
    "#### Motivation:\n",
    "Let $Z=min(X,Y)$. \n",
    "\n",
    "Then:\n",
    "$$1 - F_z(z) = P(min(X,Y) > z) = P(X>z,Y>z)$$\n",
    "\n",
    "$$= 1-P(X\\leq z) - P(Y \\leq z) + P(X\\leq z, Y \\leq z)$$\n",
    "\n",
    "$$= F_x(z) + F_y(z) - F_x(z)F_y(z) = F_{min}(X,Y)$$\n",
    "\n",
    "where last inequality is by the <strong>inclusion-exclusion principle</strong>: $A\\cup B = A + B - A\\cap B$"
   ]
  },
  {
   "cell_type": "markdown",
   "metadata": {},
   "source": [
    "#### Solution:\n",
    "Note: $F(y) = 1 - P(Y>y) = 1 - P(min(X_1,...X_n)>y)$ where $min(X_1,...X_n) > y$ whenever $X_i > y$ for all $i$.\n",
    "\n",
    "Hence, $F(y)=1-P(X_1>y)P(X_2>y)...P(X_n>y)= 1 - P(X_1>y)^n$.\n",
    "\n",
    "And since $P(X>y)=\\frac{b-y}{b-a}$ by definition (note, $P(X<y)=\\frac{y-a}{b-a}$), we have that $1-P(X_1>y)^n = 1-(\\frac{b-y}{b-a})^n$."
   ]
  },
  {
   "cell_type": "markdown",
   "metadata": {},
   "source": [
    "Taking the derivative w.r.t. $y$, we get $f(y)=\\frac{n}{b-a}(\\frac{b-y}{b-a})^{n-1}$\n",
    "\n",
    "Since $E(y) = \\int_{-\\infty}^{\\infty} yf(y)dy$, we get that $E(Y)=\\frac{b+na}{n+1}=\\frac{1}{3}$"
   ]
  },
  {
   "cell_type": "markdown",
   "metadata": {},
   "source": [
    "#### Another solution:\n",
    "Let $X_1,...X_n$ be iid R.V. from uniform distribution and let $Z_n = min(X_1,...,X_n)$. Then $E[Z_n]=\\int_0^1P(X>x)^ndx=\\int_0^1(1-x)^ndx=\\frac{1}{n+1}$"
   ]
  },
  {
   "cell_type": "markdown",
   "metadata": {},
   "source": [
    "https://tsourakakis.com/2015/12/14/expectation-of-minimum-of-n-i-i-d-uniform-random-variables/"
   ]
  }
 ],
 "metadata": {
  "kernelspec": {
   "display_name": "Python 3",
   "language": "python",
   "name": "python3"
  },
  "language_info": {
   "codemirror_mode": {
    "name": "ipython",
    "version": 3
   },
   "file_extension": ".py",
   "mimetype": "text/x-python",
   "name": "python",
   "nbconvert_exporter": "python",
   "pygments_lexer": "ipython3",
   "version": "3.7.4"
  }
 },
 "nbformat": 4,
 "nbformat_minor": 2
}
